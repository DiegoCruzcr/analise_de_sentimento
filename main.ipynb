{
 "cells": [
  {
   "cell_type": "code",
   "execution_count": 1,
   "id": "2f32f74d",
   "metadata": {},
   "outputs": [],
   "source": [
    "#Importando libs\n",
    "from azure.core.credentials import AzureKeyCredential\n",
    "from azure.ai.textanalytics import TextAnalyticsClient"
   ]
  },
  {
   "cell_type": "code",
   "execution_count": 8,
   "id": "36310787",
   "metadata": {},
   "outputs": [],
   "source": [
    "#Verificando credenciais\n",
    "credential = AzureKeyCredential(\"4700968ed1024d6b820806736893ec23\")\n",
    "endpoint = \"https://textanalytics-lab1.cognitiveservices.azure.com/\""
   ]
  },
  {
   "cell_type": "code",
   "execution_count": 9,
   "id": "9465d63c",
   "metadata": {},
   "outputs": [],
   "source": [
    "#Instanciando classe TextAnalyticsClient\n",
    "client = TextAnalyticsClient(endpoint=endpoint, credential=credential)"
   ]
  },
  {
   "cell_type": "code",
   "execution_count": 22,
   "id": "658c4cb4",
   "metadata": {},
   "outputs": [
    {
     "name": "stdout",
     "output_type": "stream",
     "text": [
      "[AnalyzeSentimentResult(id=0, sentiment=positive, warnings=[], statistics=None, confidence_scores=SentimentConfidenceScores(positive=0.98, neutral=0.01, negative=0.0), sentences=[SentenceSentiment(text=I love you, sentiment=positive, confidence_scores=SentimentConfidenceScores(positive=0.98, neutral=0.01, negative=0.0), length=10, offset=0, mined_opinions=[])], is_error=False)]\n"
     ]
    }
   ],
   "source": [
    "#Texto a ser analisado\n",
    "text = [\"I love you\"]\n",
    "#resposta\n",
    "response = client.analyze_sentiment(text)\n",
    "#output da resposta\n",
    "#beutify_response = response[0][\"confidence_scores\"]\n",
    "for item in response:\n",
    "    print(item)\n",
    "#print(response)\n"
   ]
  },
  {
   "cell_type": "code",
   "execution_count": null,
   "id": "710acd65",
   "metadata": {},
   "outputs": [],
   "source": []
  }
 ],
 "metadata": {
  "kernelspec": {
   "display_name": "Python 3 (ipykernel)",
   "language": "python",
   "name": "python3"
  },
  "language_info": {
   "codemirror_mode": {
    "name": "ipython",
    "version": 3
   },
   "file_extension": ".py",
   "mimetype": "text/x-python",
   "name": "python",
   "nbconvert_exporter": "python",
   "pygments_lexer": "ipython3",
   "version": "3.9.0"
  },
  "toc": {
   "base_numbering": 1,
   "nav_menu": {},
   "number_sections": true,
   "sideBar": true,
   "skip_h1_title": false,
   "title_cell": "Table of Contents",
   "title_sidebar": "Contents",
   "toc_cell": false,
   "toc_position": {},
   "toc_section_display": true,
   "toc_window_display": false
  }
 },
 "nbformat": 4,
 "nbformat_minor": 5
}
