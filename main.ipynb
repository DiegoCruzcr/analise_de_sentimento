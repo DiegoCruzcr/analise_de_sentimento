{
 "cells": [
  {
   "cell_type": "code",
   "execution_count": 2,
   "id": "2f32f74d",
   "metadata": {},
   "outputs": [],
   "source": [
    "#Importando libs\n",
    "from azure.core.credentials import AzureKeyCredential\n",
    "from azure.ai.textanalytics import TextAnalyticsClient"
   ]
  },
  {
   "cell_type": "code",
   "execution_count": 3,
   "id": "36310787",
   "metadata": {},
   "outputs": [],
   "source": [
    "#Verificando credenciais\n",
    "credential = AzureKeyCredential(\"yourKEY\")\n",
    "endpoint = \"YOURendpoint\""
   ]
  },
  {
   "cell_type": "code",
   "execution_count": 4,
   "id": "9465d63c",
   "metadata": {},
   "outputs": [],
   "source": [
    "#Instanciando classe TextAnalyticsClient\n",
    "client = TextAnalyticsClient(endpoint=endpoint, credential=credential)"
   ]
  },
  {
   "cell_type": "code",
   "execution_count": 6,
   "id": "658c4cb4",
   "metadata": {},
   "outputs": [
    {
     "ename": "KeyError",
     "evalue": "0",
     "output_type": "error",
     "traceback": [
      "\u001b[1;31m---------------------------------------------------------------------------\u001b[0m",
      "\u001b[1;31mKeyError\u001b[0m                                  Traceback (most recent call last)",
      "Input \u001b[1;32mIn [6]\u001b[0m, in \u001b[0;36m<cell line: 7>\u001b[1;34m()\u001b[0m\n\u001b[0;32m      4\u001b[0m response \u001b[38;5;241m=\u001b[39m client\u001b[38;5;241m.\u001b[39manalyze_sentiment(text)\n\u001b[0;32m      5\u001b[0m \u001b[38;5;66;03m#output da resposta\u001b[39;00m\n\u001b[0;32m      6\u001b[0m \u001b[38;5;66;03m#beutify_response = response[0][\"confidence_scores\"]\u001b[39;00m\n\u001b[1;32m----> 7\u001b[0m \u001b[38;5;28;01mfor\u001b[39;00m key, value \u001b[38;5;129;01min\u001b[39;00m response:\n\u001b[0;32m      8\u001b[0m     \u001b[38;5;28mprint\u001b[39m(value)\n",
      "File \u001b[1;32mc:\\users\\diego\\onedrive - fiap-faculdade de informática e administração paulista\\nano_courses\\ia_computacional\\venv\\lib\\site-packages\\azure\\ai\\textanalytics\\_models.py:27\u001b[0m, in \u001b[0;36mDictMixin.__getitem__\u001b[1;34m(self, key)\u001b[0m\n\u001b[0;32m     26\u001b[0m \u001b[38;5;28;01mdef\u001b[39;00m \u001b[38;5;21m__getitem__\u001b[39m(\u001b[38;5;28mself\u001b[39m, key):\n\u001b[1;32m---> 27\u001b[0m     \u001b[38;5;28;01mreturn\u001b[39;00m \u001b[38;5;28;43mself\u001b[39;49m\u001b[38;5;241;43m.\u001b[39;49m\u001b[38;5;18;43m__dict__\u001b[39;49m\u001b[43m[\u001b[49m\u001b[43mkey\u001b[49m\u001b[43m]\u001b[49m\n",
      "\u001b[1;31mKeyError\u001b[0m: 0"
     ]
    }
   ],
   "source": [
    "#Texto a ser analisado\n",
    "text = [\"I love you\"]\n",
    "#resposta\n",
    "response = client.analyze_sentiment(text)\n",
    "#output da resposta\n",
    "#beutify_response = response[0][\"confidence_scores\"]\n",
    "for item in response:\n",
    "    print(item)\n",
    "#print(response)\n"
   ]
  },
  {
   "cell_type": "code",
   "execution_count": null,
   "id": "710acd65",
   "metadata": {},
   "outputs": [],
   "source": []
  }
 ],
 "metadata": {
  "kernelspec": {
   "display_name": "Python 3 (ipykernel)",
   "language": "python",
   "name": "python3"
  },
  "language_info": {
   "codemirror_mode": {
    "name": "ipython",
    "version": 3
   },
   "file_extension": ".py",
   "mimetype": "text/x-python",
   "name": "python",
   "nbconvert_exporter": "python",
   "pygments_lexer": "ipython3",
   "version": "3.9.0"
  },
  "toc": {
   "base_numbering": 1,
   "nav_menu": {},
   "number_sections": true,
   "sideBar": true,
   "skip_h1_title": false,
   "title_cell": "Table of Contents",
   "title_sidebar": "Contents",
   "toc_cell": false,
   "toc_position": {},
   "toc_section_display": true,
   "toc_window_display": false
  }
 },
 "nbformat": 4,
 "nbformat_minor": 5
}
